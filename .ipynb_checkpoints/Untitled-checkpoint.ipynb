{
 "cells": [
  {
   "cell_type": "code",
   "execution_count": 8,
   "id": "f64fdf32-132d-42fd-95dd-3b3f0f105e08",
   "metadata": {},
   "outputs": [
    {
     "name": "stdout",
     "output_type": "stream",
     "text": [
      "Collecting bing-image-downloader\n",
      "  Downloading bing_image_downloader-1.1.2-py3-none-any.whl.metadata (2.8 kB)\n",
      "Downloading bing_image_downloader-1.1.2-py3-none-any.whl (5.9 kB)\n",
      "Installing collected packages: bing-image-downloader\n",
      "Successfully installed bing-image-downloader-1.1.2\n",
      "Note: you may need to restart the kernel to use updated packages.\n"
     ]
    }
   ],
   "source": []
  },
  {
   "cell_type": "code",
   "execution_count": 1,
   "id": "28dd0c69-237f-44be-9fbd-9b1673b4d2a7",
   "metadata": {},
   "outputs": [],
   "source": [
    "from bing_image_downloader import downloader"
   ]
  },
  {
   "cell_type": "code",
   "execution_count": 2,
   "id": "4d3b7496-452a-4e19-a72a-1ccccea7dcea",
   "metadata": {},
   "outputs": [
    {
     "name": "stdout",
     "output_type": "stream",
     "text": [
      "[%] Downloading Images to C:\\Users\\MOKSH\\OneDrive\\Desktop\\ML mini project\\dataset\\Human Face\n",
      "\n",
      "\n",
      "[!!]Indexing page: 1\n",
      "\n",
      "[%] Indexed 10 Images on Page 1.\n",
      "\n",
      "===============================================\n",
      "\n",
      "[%] Downloading Image #1 from https://i.pinimg.com/originals/e0/3c/26/e03c26f07bfb6ef6c15ec7b0171df145.jpg\n",
      "[%] File Downloaded !\n",
      "\n",
      "[%] Downloading Image #2 from https://jooinn.com/images/human-face-1.jpg\n",
      "[%] File Downloaded !\n",
      "\n",
      "[%] Downloading Image #3 from https://i.pinimg.com/originals/de/97/55/de975595890f0ed79238dc4d61532777.jpg\n",
      "[%] File Downloaded !\n",
      "\n",
      "[%] Downloading Image #4 from https://jooinn.com/images/human-face-4.jpg\n",
      "[%] File Downloaded !\n",
      "\n",
      "[%] Downloading Image #5 from https://wallpapercave.com/wp/wp7900881.jpg\n",
      "[%] File Downloaded !\n",
      "\n",
      "[%] Downloading Image #6 from https://www.publicdomainpictures.net/pictures/270000/velka/human-face.jpg\n",
      "[!] Issue getting: https://www.publicdomainpictures.net/pictures/270000/velka/human-face.jpg\n",
      "[!] Error:: HTTP Error 403: Forbidden\n",
      "[%] Downloading Image #6 from https://dc-dermdocs.com/wp-content/uploads/shutterstock_149962697.jpg\n",
      "[%] File Downloaded !\n",
      "\n",
      "[%] Downloading Image #7 from https://wallpaperaccess.com/full/5496283.jpg\n",
      "[%] File Downloaded !\n",
      "\n",
      "[%] Downloading Image #8 from https://mediaproxy.salon.com/width/1200/https://media.salon.com/2019/04/suprised-man.jpg\n",
      "[%] File Downloaded !\n",
      "\n",
      "[%] Downloading Image #9 from http://www.goldenmeancalipers.com/wp-content/uploads/2011/12/mirror11.jpg\n",
      "[%] File Downloaded !\n",
      "\n",
      "\n",
      "\n",
      "[!!]Indexing page: 2\n",
      "\n",
      "[%] Indexed 35 Images on Page 2.\n",
      "\n",
      "===============================================\n",
      "\n",
      "[%] Downloading Image #10 from https://images.pexels.com/photos/614810/pexels-photo-614810.jpeg?auto=compress&amp;cs=tinysrgb&amp;dpr=1&amp;w=500\n",
      "[%] File Downloaded !\n",
      "\n",
      "\n",
      "\n",
      "[%] Done. Downloaded 10 images.\n"
     ]
    }
   ],
   "source": [
    "downloader.download(\"Human Face\", limit=10, output_dir='dataset', adult_filter_off=True, force_replace=False, timeout=60)"
   ]
  },
  {
   "cell_type": "code",
   "execution_count": 5,
   "id": "b50135ea-70a5-42ee-ae0e-d5528ec1f6e3",
   "metadata": {},
   "outputs": [],
   "source": [
    "arguments = {\n",
    "    \"keywords\": \"Human Face\",  # Replace with your keyword\n",
    "    \"limit\": 10,                      # Number of images to download\n",
    "    \"print_urls\": True                # Print URLs of downloaded images\n",
    "}"
   ]
  },
  {
   "cell_type": "code",
   "execution_count": 7,
   "id": "6d6b6d33-2075-4f63-9d07-e497c42d967f",
   "metadata": {},
   "outputs": [
    {
     "name": "stdout",
     "output_type": "stream",
     "text": [
      "\n",
      "Item no.: 1 --> Item name = Human Face\n",
      "Evaluating...\n",
      "Starting Download...\n",
      "\n",
      "\n",
      "Unfortunately all 10 could not be downloaded because some images were not downloadable. 0 is all we got for this search filter!\n",
      "\n",
      "Errors: 0\n",
      "\n",
      "({'Human Face': []}, 0)\n"
     ]
    }
   ],
   "source": [
    "paths = response.download(arguments)\n",
    "\n",
    "# Print the paths of the downloaded images\n",
    "print(paths)"
   ]
  },
  {
   "cell_type": "code",
   "execution_count": null,
   "id": "4d0ecfa5-787d-4998-8fdc-18626662a7ba",
   "metadata": {},
   "outputs": [],
   "source": []
  }
 ],
 "metadata": {
  "kernelspec": {
   "display_name": "Python 3 (ipykernel)",
   "language": "python",
   "name": "python3"
  },
  "language_info": {
   "codemirror_mode": {
    "name": "ipython",
    "version": 3
   },
   "file_extension": ".py",
   "mimetype": "text/x-python",
   "name": "python",
   "nbconvert_exporter": "python",
   "pygments_lexer": "ipython3",
   "version": "3.11.7"
  }
 },
 "nbformat": 4,
 "nbformat_minor": 5
}
